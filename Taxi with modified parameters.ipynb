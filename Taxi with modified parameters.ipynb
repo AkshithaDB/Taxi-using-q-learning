{
 "cells": [
  {
   "cell_type": "code",
   "execution_count": 2,
   "id": "52cb64e5",
   "metadata": {},
   "outputs": [],
   "source": [
    "import random\n",
    "import gym \n",
    "import numpy as np"
   ]
  },
  {
   "cell_type": "code",
   "execution_count": 3,
   "id": "79892f90",
   "metadata": {},
   "outputs": [],
   "source": [
    "env = gym.make('Taxi-v3')"
   ]
  },
  {
   "cell_type": "code",
   "execution_count": 4,
   "id": "21426746",
   "metadata": {},
   "outputs": [],
   "source": [
    "alpha = 0.9\n",
    "gamma = 0.95\n",
    "epsilon = 1\n",
    "epsilon_decay = 0.9995\n",
    "min_epsilon = 0.01\n",
    "num_episodes = 10000\n",
    "max_steps = 100\n",
    "\n"
   ]
  },
  {
   "cell_type": "code",
   "execution_count": 5,
   "id": "b7795285",
   "metadata": {},
   "outputs": [],
   "source": [
    "# 25 positions * 5* 4 = 500 states\n",
    "q_table = np.zeros((env.observation_space.n, env.action_space.n))"
   ]
  },
  {
   "cell_type": "code",
   "execution_count": 6,
   "id": "4182b541",
   "metadata": {},
   "outputs": [
    {
     "name": "stdout",
     "output_type": "stream",
     "text": [
      "Episode 0\n",
      "Finished episode 0 in 15 steps with reward 20\n",
      "Episode 1\n",
      "Finished episode 1 in 7 steps with reward 20\n",
      "Episode 2\n",
      "Finished episode 2 in 15 steps with reward 20\n",
      "Episode 3\n",
      "Finished episode 3 in 17 steps with reward 20\n",
      "Episode 4\n",
      "Finished episode 4 in 16 steps with reward 20\n"
     ]
    }
   ],
   "source": [
    "def choose_action(state):\n",
    "    if random.uniform(0,1) < epsilon:\n",
    "        return env.action_space.sample()\n",
    "    else:\n",
    "        return np.argmax(q_table[state, :])\n",
    "\n",
    "for episode in range(num_episodes):\n",
    "    state, _ = env.reset()\n",
    "    done = False\n",
    "    \n",
    "    for step in range(max_steps):\n",
    "        action = choose_action(state)\n",
    "        next_state, reward, done, truncated, info = env.step(action)\n",
    "        old_value = q_table[state, action]\n",
    "        next_max = np.max(q_table[next_state, :])\n",
    "        \n",
    "        q_table[state, action] = (1-alpha) * old_value + alpha * (reward + gamma * next_max)\n",
    "        \n",
    "        state = next_state\n",
    "        \n",
    "        if done or truncated:\n",
    "            break\n",
    "    epsilon = max(min_epsilon, epsilon * epsilon_decay)\n",
    "    \n",
    "env = gym.make('Taxi-v3', render_mode = 'human')\n",
    "\n",
    "for episode in range(5):\n",
    "    state, _ = env.reset()\n",
    "    done = False\n",
    "    \n",
    "    print('Episode', episode)\n",
    "    \n",
    "    for step in range(max_steps):\n",
    "        env.render()\n",
    "        action = np.argmax(q_table[state, :])\n",
    "        next_state, reward, done, truncated, info = env.step(action)\n",
    "        state = next_state\n",
    "        \n",
    "        if done or truncated:\n",
    "            env.render()\n",
    "            print('Finished episode', episode,'in',step,'steps with reward', reward)\n",
    "            break\n",
    "            \n",
    "env.close()"
   ]
  },
  {
   "cell_type": "code",
   "execution_count": 12,
   "id": "4a934b13",
   "metadata": {},
   "outputs": [],
   "source": [
    "import pickle, os"
   ]
  },
  {
   "cell_type": "code",
   "execution_count": 13,
   "id": "6b22ba52",
   "metadata": {},
   "outputs": [
    {
     "data": {
      "text/plain": [
       "<TimeLimit<OrderEnforcing<PassiveEnvChecker<TaxiEnv<Taxi-v3>>>>>"
      ]
     },
     "execution_count": 13,
     "metadata": {},
     "output_type": "execute_result"
    }
   ],
   "source": [
    "env = gym.make('Taxi-v3')\n",
    "env"
   ]
  },
  {
   "cell_type": "code",
   "execution_count": 14,
   "id": "aaf20680",
   "metadata": {},
   "outputs": [
    {
     "data": {
      "text/plain": [
       "(146, {'prob': 1.0, 'action_mask': array([1, 1, 1, 0, 0, 0], dtype=int8)})"
      ]
     },
     "execution_count": 14,
     "metadata": {},
     "output_type": "execute_result"
    }
   ],
   "source": [
    "state = env.reset()\n",
    "state"
   ]
  },
  {
   "cell_type": "code",
   "execution_count": null,
   "id": "01922020",
   "metadata": {},
   "outputs": [],
   "source": []
  }
 ],
 "metadata": {
  "kernelspec": {
   "display_name": "Python 3 (ipykernel)",
   "language": "python",
   "name": "python3"
  },
  "language_info": {
   "codemirror_mode": {
    "name": "ipython",
    "version": 3
   },
   "file_extension": ".py",
   "mimetype": "text/x-python",
   "name": "python",
   "nbconvert_exporter": "python",
   "pygments_lexer": "ipython3",
   "version": "3.10.9"
  }
 },
 "nbformat": 4,
 "nbformat_minor": 5
}
